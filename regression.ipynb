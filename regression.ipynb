{
 "cells": [
  {
   "cell_type": "code",
   "execution_count": 4,
   "metadata": {
    "collapsed": true
   },
   "outputs": [],
   "source": [
    "% store -r sbi_corr_high_ROA\n",
    "% store -r sbi_corr_high_ROE\n",
    "% store -r sbi_corr_high_IITA\n",
    "% store -r sbi_corr_high_NNPASTA"
   ]
  },
  {
   "cell_type": "code",
   "execution_count": 37,
   "metadata": {},
   "outputs": [],
   "source": [
    "def max_corr(corr_list):\n",
    "    max = 0\n",
    "    for item in corr_list.iteritems():\n",
    "        if item[1][1] > max:\n",
    "            max = item[1][1]\n",
    "            max_factor = item[1]\n",
    "    return max_factor"
   ]
  },
  {
   "cell_type": "code",
   "execution_count": 60,
   "metadata": {
    "collapsed": true
   },
   "outputs": [
    {
     "name": "stdout",
     "output_type": "stream",
     "text": [
      "('CIDR', 0.88)\n('COD', 0.97999999999999998)\n('NNNA-RATIO', 0.98999999999999999)\n"
     ]
    }
   ],
   "source": [
    "sbi_corr_max_ROA = max_corr(sbi_corr_high_ROA)\n",
    "sbi_corr_max_IITA = max_corr(sbi_corr_high_IITA)\n",
    "sbi_corr_max_NNPASTA = max_corr(sbi_corr_high_NNPASTA)\n",
    "print(sbi_corr_max_ROA)\n",
    "print(sbi_corr_max_IITA)\n",
    "print(sbi_corr_max_NNPASTA)"
   ]
  },
  {
   "cell_type": "code",
   "execution_count": 5,
   "metadata": {},
   "outputs": [],
   "source": [
    "store -r data_1999_2009_sbi"
   ]
  },
  {
   "cell_type": "code",
   "execution_count": 140,
   "metadata": {
    "collapsed": true
   },
   "outputs": [
    {
     "data": {
      "text/plain": [
       "LinearRegression(copy_X=True, fit_intercept=True, n_jobs=1, normalize=False)"
      ]
     },
     "execution_count": 140,
     "metadata": {},
     "output_type": "execute_result"
    }
   ],
   "source": [
    "import numpy as np\n",
    "from sklearn.linear_model import LinearRegression\n",
    "\n",
    "lregression_model_ROA = LinearRegression()\n",
    "lregression_model_ROA.fit(np.array(data_1999_2009_sbi.loc['ROA']).reshape(-1, 1),\n",
    "                          np.array(data_1999_2009_sbi.loc['CIDR']).reshape(-1, 1))"
   ]
  },
  {
   "cell_type": "code",
   "execution_count": 141,
   "metadata": {
    "collapsed": false
   },
   "outputs": [
    {
     "data": {
      "text/plain": [
       "0.77450829671753152"
      ]
     },
     "execution_count": 141,
     "metadata": {},
     "output_type": "execute_result"
    }
   ],
   "source": [
    "lregression_model_ROA.score(np.array(data_1999_2009_sbi.loc['ROA']).reshape(-1, 1),\n",
    "                            np.array(data_1999_2009_sbi.loc['CIDR']).reshape(-1, 1))"
   ]
  },
  {
   "cell_type": "code",
   "execution_count": 142,
   "metadata": {
    "collapsed": true
   },
   "outputs": [
    {
     "data": {
      "text/plain": [
       "LinearRegression(copy_X=True, fit_intercept=True, n_jobs=1, normalize=False)"
      ]
     },
     "execution_count": 142,
     "metadata": {},
     "output_type": "execute_result"
    }
   ],
   "source": [
    "lregression_model_IITA = LinearRegression()\n",
    "lregression_model_IITA.fit(np.array(data_1999_2009_sbi.loc['IITA-RATIO']).reshape(-1, 1),\n",
    "                           np.array(data_1999_2009_sbi.loc['COD']).reshape(-1, 1))"
   ]
  },
  {
   "cell_type": "code",
   "execution_count": 143,
   "metadata": {
    "collapsed": false
   },
   "outputs": [
    {
     "data": {
      "text/plain": [
       "0.95742766262317558"
      ]
     },
     "execution_count": 143,
     "metadata": {},
     "output_type": "execute_result"
    }
   ],
   "source": [
    "lregression_model_IITA.score(np.array(data_1999_2009_sbi.loc['IITA-RATIO']).reshape(-1, 1),\n",
    "                             np.array(data_1999_2009_sbi.loc['COD']).reshape(-1, 1))"
   ]
  },
  {
   "cell_type": "code",
   "execution_count": 5,
   "metadata": {
    "collapsed": true
   },
   "outputs": [
    {
     "data": {
      "text/plain": [
       "LinearRegression(copy_X=True, fit_intercept=True, n_jobs=1, normalize=False)"
      ]
     },
     "execution_count": 5,
     "metadata": {},
     "output_type": "execute_result"
    }
   ],
   "source": [
    "from sklearn.linear_model import LinearRegression\n",
    "import numpy as np\n",
    "lregression_model_NNPASTA = LinearRegression()\n",
    "lregression_model_NNPASTA.fit(np.array(data_1999_2009_sbi.loc['NNPASTA']).reshape(-1, 1),\n",
    "                           np.array(data_1999_2009_sbi.loc['NNNA-RATIO']).reshape(-1, 1))"
   ]
  },
  {
   "cell_type": "code",
   "execution_count": 6,
   "metadata": {},
   "outputs": [
    {
     "data": {
      "text/plain": [
       "0.98267343395429163"
      ]
     },
     "execution_count": 6,
     "metadata": {},
     "output_type": "execute_result"
    }
   ],
   "source": [
    "lregression_model_NNPASTA.score(np.array(data_1999_2009_sbi.loc['NNPASTA']).reshape(-1, 1),\n",
    "                             np.array(data_1999_2009_sbi.loc['NNNA-RATIO']).reshape(-1, 1))"
   ]
  },
  {
   "cell_type": "code",
   "execution_count": null,
   "metadata": {},
   "outputs": [],
   "source": [
    ""
   ]
  }
 ],
 "metadata": {
  "kernelspec": {
   "display_name": "Python 2",
   "language": "python",
   "name": "python2"
  },
  "language_info": {
   "codemirror_mode": {
    "name": "ipython",
    "version": 2.0
   },
   "file_extension": ".py",
   "mimetype": "text/x-python",
   "name": "python",
   "nbconvert_exporter": "python",
   "pygments_lexer": "ipython2",
   "version": "2.7.6"
  }
 },
 "nbformat": 4,
 "nbformat_minor": 0
}